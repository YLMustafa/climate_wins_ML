{
 "cells": [
  {
   "cell_type": "markdown",
   "id": "479ded88-b8b2-4ebd-9742-4077802f0954",
   "metadata": {},
   "source": [
    "# **2.5 Visual Applications of Machine Learning**"
   ]
  },
  {
   "cell_type": "markdown",
   "id": "dad1a3a5-8284-4ea3-aff4-ed04d57a2fe4",
   "metadata": {},
   "source": [
    "## **Proof-of-Concept for Automating Weather Data Digitisation Using Visual Machine Learning**\n",
    "This project explores how visual machine learning techniques can be applied to automate the digitisation of historical handwritten weather records for ClimateWins. The goal is to create a proof-of-concept pipeline that converts handwritten numbers into a structured, machine-readable dataset. This approach starts with training a neural network on the MNIST dataset to recognise handwritten digits, then tests its performance on real-world, user-generated handwritten numbers. By establishing this workflow, ClimateWins can extend the methodology to classify weather-related images, ultimately supporting predictive modeling of atmospheric conditions from visual media."
   ]
  },
  {
   "cell_type": "markdown",
   "id": "21177c3e-6067-4f0c-9385-88d4db8203fe",
   "metadata": {},
   "source": [
    "## Table of Contents  \n",
    "- [1. Import Libraries](#1-import-libraries)  \n",
    "- [2. Set Random Seed](#2-set-random-seed)\n",
    "- [3. Load MINST Data](#3-load-minst-data)\n",
    "- [4. Explore Dataset](#4-explore-dataset)  \n",
    "- [5. Visuallise Training Images](#5-visualise-training-images)\n",
    "- [6. Preprocess Data](#6-preprocess-data)  \n",
    "- [7. Define CNN Model](#7-define-cnn-model)  \n",
    "- [8. Compile and Train Model](#8-compile-and-train-model)\n",
    "- [9. Evaluate Model](#9-evaluate-model)\n",
    "- [10. Load and Process One Custom Image](#12-load-and-process-one-custom-image)\n",
    "- [11. Load and Process a Batch of Custom Images](#12-load-and-process-a-batch-of-custom-images)"
   ]
  },
  {
   "cell_type": "markdown",
   "id": "aa373673-74e3-4faa-9990-1cdeccaf56ee",
   "metadata": {},
   "source": [
    "---"
   ]
  },
  {
   "cell_type": "markdown",
   "id": "14f805ea-9301-466d-b1c2-d2a6d42cf386",
   "metadata": {},
   "source": [
    "## 1. Import Libraries\n",
    "\n",
    "Here I load the Python packages needed for image preprocessing, deep learning, and evaluation:\n",
    "\n",
    "- Core tools:\n",
    "  - `pandas` and `numpy`: data handling and numerical computation.\n",
    "  - `os`: for file and directory operations.\n",
    "  - `operator`: for comparisons and sorting utilities.\n",
    "- Visualisation:\n",
    "  - `matplotlib.pyplot` and `seaborn`: for displaying training images, plotting accuracy/loss curves, and visualising results.\n",
    " - Machine learning utilities (scikit-learn):\n",
    "  - `LabelEncoder`: for encoding categorical labels.\n",
    "  - `confusion_matrix`: to evaluate prediction performance.\n",
    "    - Deep learning (TensorFlow/Keras):\n",
    "  - `Sequential`: for building models by stacking layers in order.\n",
    "  - Layers:\n",
    "    - `Conv2D`, `MaxPooling2D`: for extracting spatial features from images.\n",
    "    - `Flatten`: converts feature maps into vectors for dense layers.\n",
    "    - `Dense`: fully connected layers for classification.\n",
    "    - `BatchNormalization`: stabilises training and speeds up convergence.\n",
    "    - `Activation`: for applying nonlinear activation functions.\n",
    "    - `Dropout`: for reducing overfitting by randomly deactivating neurons.\n",
    "  - `to_categorical`: for one-hot encoding class labels.\n",
    "  - `mnist` dataset: as a baseline training set.\n",
    "- NumPy extras: `unique`, `reshape`, `argmax`, `asarray` for array transformations and decoding predictions.\n",
    "- Image processing: `PIL.Image` for loading, resizing, and preprocessing custom images."
   ]
  },
  {
   "cell_type": "code",
   "execution_count": 5,
   "id": "a11aa508",
   "metadata": {},
   "outputs": [
    {
     "name": "stderr",
     "output_type": "stream",
     "text": [
      "2025-09-01 21:26:33.864001: I tensorflow/core/platform/cpu_feature_guard.cc:210] This TensorFlow binary is optimized to use available CPU instructions in performance-critical operations.\n",
      "To enable the following instructions: AVX2 FMA, in other operations, rebuild TensorFlow with the appropriate compiler flags.\n"
     ]
    }
   ],
   "source": [
    "# Import libraries\n",
    "import pandas as pd\n",
    "import numpy as np\n",
    "import seaborn as sns\n",
    "import os\n",
    "import operator\n",
    "import matplotlib.pyplot as plt\n",
    "\n",
    "from sklearn.preprocessing import LabelEncoder\n",
    "from sklearn.metrics import confusion_matrix\n",
    "\n",
    "import tensorflow as tf\n",
    "from tensorflow.keras.models import Sequential\n",
    "from tensorflow.keras.layers import Conv1D, Conv2D, Dense, BatchNormalization, Flatten, MaxPooling2D, Activation, Dropout\n",
    "from tensorflow.keras.utils import to_categorical\n",
    "from tensorflow.keras.datasets import mnist\n",
    "\n",
    "from numpy import unique, reshape, argmax, asarray\n",
    "from PIL import Image"
   ]
  },
  {
   "cell_type": "markdown",
   "id": "98ca8110-fa2d-4421-9d2b-2a84915656d1",
   "metadata": {},
   "source": [
    "---"
   ]
  },
  {
   "cell_type": "markdown",
   "id": "d992f2f5-668c-4438-9b20-91a0188b641f",
   "metadata": {},
   "source": [
    "## 2. Set Random Seed\n",
    "Ensures reproducibility: same random numbers → same model initialisation → consistent results."
   ]
  },
  {
   "cell_type": "code",
   "execution_count": 6,
   "id": "e719b5f0",
   "metadata": {},
   "outputs": [],
   "source": [
    "# Set random seed\n",
    "tf.random.set_seed(42)"
   ]
  },
  {
   "cell_type": "markdown",
   "id": "241d0de0-f4ce-41a2-98e4-300180433628",
   "metadata": {},
   "source": [
    "---"
   ]
  },
  {
   "cell_type": "markdown",
   "id": "6184f5b2-91dd-41e3-81d4-c90c98d4f2ab",
   "metadata": {},
   "source": [
    "## 3. Load MINST Data\n",
    "I’m loading in the MNIST dataset, a standard benchmark in machine learning that contains 70,000 images of handwritten digits (0–9).\n",
    "The data comes pre-split into a training set (60,000 images) and a test set (10,000 images).\n",
    "Each image is a 28×28 grayscale pixel grid with values ranging from 0 (white) to 255 (black).\n",
    "The corresponding labels (y) represent the digit shown in each image.\n",
    "At this stage, I am also checking the shapes of the arrays to confirm that:\n",
    "X_train and y_train hold the training images and labels\n",
    "X_test and y_test hold the test images and labels\n",
    "This ensures the dataset has been loaded correctly and is ready for preprocessing."
   ]
  },
  {
   "cell_type": "code",
   "execution_count": 7,
   "id": "392dad74",
   "metadata": {},
   "outputs": [],
   "source": [
    "# Load MINST data\n",
    "hand = mnist.load_data()"
   ]
  },
  {
   "cell_type": "code",
   "execution_count": 8,
   "id": "4a6e3087",
   "metadata": {},
   "outputs": [
    {
     "data": {
      "text/plain": [
       "(array([[[0, 0, 0, ..., 0, 0, 0],\n",
       "         [0, 0, 0, ..., 0, 0, 0],\n",
       "         [0, 0, 0, ..., 0, 0, 0],\n",
       "         ...,\n",
       "         [0, 0, 0, ..., 0, 0, 0],\n",
       "         [0, 0, 0, ..., 0, 0, 0],\n",
       "         [0, 0, 0, ..., 0, 0, 0]],\n",
       " \n",
       "        [[0, 0, 0, ..., 0, 0, 0],\n",
       "         [0, 0, 0, ..., 0, 0, 0],\n",
       "         [0, 0, 0, ..., 0, 0, 0],\n",
       "         ...,\n",
       "         [0, 0, 0, ..., 0, 0, 0],\n",
       "         [0, 0, 0, ..., 0, 0, 0],\n",
       "         [0, 0, 0, ..., 0, 0, 0]],\n",
       " \n",
       "        [[0, 0, 0, ..., 0, 0, 0],\n",
       "         [0, 0, 0, ..., 0, 0, 0],\n",
       "         [0, 0, 0, ..., 0, 0, 0],\n",
       "         ...,\n",
       "         [0, 0, 0, ..., 0, 0, 0],\n",
       "         [0, 0, 0, ..., 0, 0, 0],\n",
       "         [0, 0, 0, ..., 0, 0, 0]],\n",
       " \n",
       "        ...,\n",
       " \n",
       "        [[0, 0, 0, ..., 0, 0, 0],\n",
       "         [0, 0, 0, ..., 0, 0, 0],\n",
       "         [0, 0, 0, ..., 0, 0, 0],\n",
       "         ...,\n",
       "         [0, 0, 0, ..., 0, 0, 0],\n",
       "         [0, 0, 0, ..., 0, 0, 0],\n",
       "         [0, 0, 0, ..., 0, 0, 0]],\n",
       " \n",
       "        [[0, 0, 0, ..., 0, 0, 0],\n",
       "         [0, 0, 0, ..., 0, 0, 0],\n",
       "         [0, 0, 0, ..., 0, 0, 0],\n",
       "         ...,\n",
       "         [0, 0, 0, ..., 0, 0, 0],\n",
       "         [0, 0, 0, ..., 0, 0, 0],\n",
       "         [0, 0, 0, ..., 0, 0, 0]],\n",
       " \n",
       "        [[0, 0, 0, ..., 0, 0, 0],\n",
       "         [0, 0, 0, ..., 0, 0, 0],\n",
       "         [0, 0, 0, ..., 0, 0, 0],\n",
       "         ...,\n",
       "         [0, 0, 0, ..., 0, 0, 0],\n",
       "         [0, 0, 0, ..., 0, 0, 0],\n",
       "         [0, 0, 0, ..., 0, 0, 0]]], dtype=uint8),\n",
       " array([5, 0, 4, ..., 5, 6, 8], dtype=uint8))"
      ]
     },
     "execution_count": 8,
     "metadata": {},
     "output_type": "execute_result"
    }
   ],
   "source": [
    "# Show the first element of the tuple (list with parentheses):\n",
    "hand[0]"
   ]
  },
  {
   "cell_type": "markdown",
   "id": "05b306fa-13de-4320-bb0b-c566b0d0c2c3",
   "metadata": {},
   "source": [
    "---"
   ]
  },
  {
   "cell_type": "markdown",
   "id": "afcc8a1b-6535-4fbc-8b3d-32b6872ffa9f",
   "metadata": {},
   "source": [
    "## 4. Explore Dataset\n",
    "\n",
    "Before preprocessing or modelling, I take a closer look at the MNIST dataset to build intuition about its structure and contents:\n",
    "- Check raw pixel values: Each image is stored as a 28×28 NumPy array with values between 0–255, representing grayscale intensity.\n",
    "- Inspect dataset shapes: Confirm the number of training images (60,000) and test images (10,000), along with their label arrays.\n",
    "- Look at labels: Review the distribution of digits to see that all classes (0–9) are present.\n",
    "- Visualise samples: Plot the first few images, both individually and in a grid of 25, to get a sense of the handwriting variability."
   ]
  },
  {
   "cell_type": "code",
   "execution_count": 9,
   "id": "840f36fb",
   "metadata": {},
   "outputs": [],
   "source": [
    "# Unpack dataset\n",
    "(X_train, y_train), (X_test, y_test) = hand"
   ]
  },
  {
   "cell_type": "code",
   "execution_count": 10,
   "id": "f8b21abf",
   "metadata": {},
   "outputs": [],
   "source": [
    "# Configure NumPy print options\n",
    "np.set_printoptions(edgeitems=3)           # Show 3 items at beginning and end when printing arrays\n",
    "np.core.arrayprint._line_width = 180000    # Make lines very wide to avoid wrapping"
   ]
  },
  {
   "cell_type": "code",
   "execution_count": 11,
   "id": "02642982",
   "metadata": {},
   "outputs": [
    {
     "data": {
      "text/plain": [
       "array([[  0,   0,   0,   0,   0,   0,   0,   0,   0,   0,   0,   0,   0,\n",
       "          0,   0,   0,   0,   0,   0,   0,   0,   0,   0,   0,   0,   0,\n",
       "          0,   0],\n",
       "       [  0,   0,   0,   0,   0,   0,   0,   0,   0,   0,   0,   0,   0,\n",
       "          0,   0,   0,   0,   0,   0,   0,   0,   0,   0,   0,   0,   0,\n",
       "          0,   0],\n",
       "       [  0,   0,   0,   0,   0,   0,   0,   0,   0,   0,   0,   0,   0,\n",
       "          0,   0,   0,   0,   0,   0,   0,   0,   0,   0,   0,   0,   0,\n",
       "          0,   0],\n",
       "       [  0,   0,   0,   0,   0,   0,   0,   0,   0,   0,   0,   0,   0,\n",
       "          0,   0,   0,   0,   0,   0,   0,   0,   0,   0,   0,   0,   0,\n",
       "          0,   0],\n",
       "       [  0,   0,   0,   0,   0,   0,   0,   0,   0,   0,   0,   0,   0,\n",
       "          0,   0,   0,   0,   0,   0,   0,   0,   0,   0,   0,   0,   0,\n",
       "          0,   0],\n",
       "       [  0,   0,   0,   0,   0,   0,   0,   0,   0,   0,   0,   0,   3,\n",
       "         18,  18,  18, 126, 136, 175,  26, 166, 255, 247, 127,   0,   0,\n",
       "          0,   0],\n",
       "       [  0,   0,   0,   0,   0,   0,   0,   0,  30,  36,  94, 154, 170,\n",
       "        253, 253, 253, 253, 253, 225, 172, 253, 242, 195,  64,   0,   0,\n",
       "          0,   0],\n",
       "       [  0,   0,   0,   0,   0,   0,   0,  49, 238, 253, 253, 253, 253,\n",
       "        253, 253, 253, 253, 251,  93,  82,  82,  56,  39,   0,   0,   0,\n",
       "          0,   0],\n",
       "       [  0,   0,   0,   0,   0,   0,   0,  18, 219, 253, 253, 253, 253,\n",
       "        253, 198, 182, 247, 241,   0,   0,   0,   0,   0,   0,   0,   0,\n",
       "          0,   0],\n",
       "       [  0,   0,   0,   0,   0,   0,   0,   0,  80, 156, 107, 253, 253,\n",
       "        205,  11,   0,  43, 154,   0,   0,   0,   0,   0,   0,   0,   0,\n",
       "          0,   0],\n",
       "       [  0,   0,   0,   0,   0,   0,   0,   0,   0,  14,   1, 154, 253,\n",
       "         90,   0,   0,   0,   0,   0,   0,   0,   0,   0,   0,   0,   0,\n",
       "          0,   0],\n",
       "       [  0,   0,   0,   0,   0,   0,   0,   0,   0,   0,   0, 139, 253,\n",
       "        190,   2,   0,   0,   0,   0,   0,   0,   0,   0,   0,   0,   0,\n",
       "          0,   0],\n",
       "       [  0,   0,   0,   0,   0,   0,   0,   0,   0,   0,   0,  11, 190,\n",
       "        253,  70,   0,   0,   0,   0,   0,   0,   0,   0,   0,   0,   0,\n",
       "          0,   0],\n",
       "       [  0,   0,   0,   0,   0,   0,   0,   0,   0,   0,   0,   0,  35,\n",
       "        241, 225, 160, 108,   1,   0,   0,   0,   0,   0,   0,   0,   0,\n",
       "          0,   0],\n",
       "       [  0,   0,   0,   0,   0,   0,   0,   0,   0,   0,   0,   0,   0,\n",
       "         81, 240, 253, 253, 119,  25,   0,   0,   0,   0,   0,   0,   0,\n",
       "          0,   0],\n",
       "       [  0,   0,   0,   0,   0,   0,   0,   0,   0,   0,   0,   0,   0,\n",
       "          0,  45, 186, 253, 253, 150,  27,   0,   0,   0,   0,   0,   0,\n",
       "          0,   0],\n",
       "       [  0,   0,   0,   0,   0,   0,   0,   0,   0,   0,   0,   0,   0,\n",
       "          0,   0,  16,  93, 252, 253, 187,   0,   0,   0,   0,   0,   0,\n",
       "          0,   0],\n",
       "       [  0,   0,   0,   0,   0,   0,   0,   0,   0,   0,   0,   0,   0,\n",
       "          0,   0,   0,   0, 249, 253, 249,  64,   0,   0,   0,   0,   0,\n",
       "          0,   0],\n",
       "       [  0,   0,   0,   0,   0,   0,   0,   0,   0,   0,   0,   0,   0,\n",
       "          0,  46, 130, 183, 253, 253, 207,   2,   0,   0,   0,   0,   0,\n",
       "          0,   0],\n",
       "       [  0,   0,   0,   0,   0,   0,   0,   0,   0,   0,   0,   0,  39,\n",
       "        148, 229, 253, 253, 253, 250, 182,   0,   0,   0,   0,   0,   0,\n",
       "          0,   0],\n",
       "       [  0,   0,   0,   0,   0,   0,   0,   0,   0,   0,  24, 114, 221,\n",
       "        253, 253, 253, 253, 201,  78,   0,   0,   0,   0,   0,   0,   0,\n",
       "          0,   0],\n",
       "       [  0,   0,   0,   0,   0,   0,   0,   0,  23,  66, 213, 253, 253,\n",
       "        253, 253, 198,  81,   2,   0,   0,   0,   0,   0,   0,   0,   0,\n",
       "          0,   0],\n",
       "       [  0,   0,   0,   0,   0,   0,  18, 171, 219, 253, 253, 253, 253,\n",
       "        195,  80,   9,   0,   0,   0,   0,   0,   0,   0,   0,   0,   0,\n",
       "          0,   0],\n",
       "       [  0,   0,   0,   0,  55, 172, 226, 253, 253, 253, 253, 244, 133,\n",
       "         11,   0,   0,   0,   0,   0,   0,   0,   0,   0,   0,   0,   0,\n",
       "          0,   0],\n",
       "       [  0,   0,   0,   0, 136, 253, 253, 253, 212, 135, 132,  16,   0,\n",
       "          0,   0,   0,   0,   0,   0,   0,   0,   0,   0,   0,   0,   0,\n",
       "          0,   0],\n",
       "       [  0,   0,   0,   0,   0,   0,   0,   0,   0,   0,   0,   0,   0,\n",
       "          0,   0,   0,   0,   0,   0,   0,   0,   0,   0,   0,   0,   0,\n",
       "          0,   0],\n",
       "       [  0,   0,   0,   0,   0,   0,   0,   0,   0,   0,   0,   0,   0,\n",
       "          0,   0,   0,   0,   0,   0,   0,   0,   0,   0,   0,   0,   0,\n",
       "          0,   0],\n",
       "       [  0,   0,   0,   0,   0,   0,   0,   0,   0,   0,   0,   0,   0,\n",
       "          0,   0,   0,   0,   0,   0,   0,   0,   0,   0,   0,   0,   0,\n",
       "          0,   0]], dtype=uint8)"
      ]
     },
     "execution_count": 11,
     "metadata": {},
     "output_type": "execute_result"
    }
   ],
   "source": [
    "# Display the pixel values (0–255) for the first training image\n",
    "X_train[0]"
   ]
  },
  {
   "cell_type": "markdown",
   "id": "d5903544-9d8f-467f-b6c7-5817b1f71643",
   "metadata": {},
   "source": [
    "*Inspect the raw pixel values of the first image to help understand how images are stored numerically before passing them to a neural network.*"
   ]
  },
  {
   "cell_type": "code",
   "execution_count": 12,
   "id": "d7a4d57e-74b8-42ca-b60b-0f4500ff481c",
   "metadata": {},
   "outputs": [
    {
     "name": "stdout",
     "output_type": "stream",
     "text": [
      "(60000, 28, 28) (60000,)\n",
      "(10000, 28, 28) (10000,)\n"
     ]
    }
   ],
   "source": [
    "# Inspect dataset shapes\n",
    "print(X_train.shape, y_train.shape)\n",
    "print(X_test.shape, y_test.shape)"
   ]
  },
  {
   "cell_type": "markdown",
   "id": "c74152dd-0e74-4ce7-b5ed-9b6760658a77",
   "metadata": {},
   "source": [
    "*Meaning: 60k training images of size 28x28, and 60k labels*\n",
    "\n",
    "*10k testing images of size 28x28, and 10k labels*"
   ]
  },
  {
   "cell_type": "code",
   "execution_count": 13,
   "id": "182875ff",
   "metadata": {},
   "outputs": [
    {
     "data": {
      "text/plain": [
       "array([5, 0, 4, ..., 5, 6, 8], dtype=uint8)"
      ]
     },
     "execution_count": 13,
     "metadata": {},
     "output_type": "execute_result"
    }
   ],
   "source": [
    "# Look at raw labels\n",
    "y_train"
   ]
  },
  {
   "cell_type": "markdown",
   "id": "dedb4791-8596-4a32-932c-e30c57d2c2c5",
   "metadata": {},
   "source": [
    "*Displays the labels for training images, e.g. [5, 0, 4, ...]*\n",
    "\n",
    "*Each number corresponds to the digit in the associated image*"
   ]
  },
  {
   "cell_type": "markdown",
   "id": "10bfc5ee-bba8-4889-b446-4079e579a876",
   "metadata": {},
   "source": [
    "---"
   ]
  },
  {
   "cell_type": "markdown",
   "id": "0d355ce3-c623-40da-832d-f78dd728c277",
   "metadata": {},
   "source": [
    "## 5. Visualise Training Images\n",
    "\n",
    "To better understand the dataset, I plot a selection of training images:\n",
    "- Single image check: Display the very first training image (X_train[0]) to see the raw handwritten digit.\n",
    "- Grid of examples: Plot the first 25 training images in a 5×5 grid, each with its corresponding label.\n",
    "\n",
    "This visualisation step helps confirm that:\n",
    "- The images are correctly loaded and formatted.\n",
    "- Digits show natural handwriting variation, which the model must learn to generalise across.\n",
    "- By examining real samples, I can verify that the dataset is ready for preprocessing and training."
   ]
  },
  {
   "cell_type": "code",
   "execution_count": 14,
   "id": "6fe30756",
   "metadata": {},
   "outputs": [
    {
     "data": {
      "text/plain": [
       "<matplotlib.image.AxesImage at 0x15bbc4f50>"
      ]
     },
     "execution_count": 14,
     "metadata": {},
     "output_type": "execute_result"
    },
    {
     "data": {
      "image/png": "[encoded data removed]",
      "text/plain": [
       "<Figure size 640x480 with 1 Axes>"
      ]
     },
     "metadata": {},
     "output_type": "display_data"
    }
   ],
   "source": [
    "# Visualise the first training image \n",
    "plt.imshow(X_train[0])"
   ]
  },
  {
   "cell_type": "code",
   "execution_count": 15,
   "id": "e389ad84",
   "metadata": {},
   "outputs": [
    {
     "data": {
      "image/png": "[encoded data removed]",
      "text/plain": [
       "<Figure size 750x1000 with 25 Axes>"
      ]
     },
     "metadata": {},
     "output_type": "display_data"
    }
   ],
   "source": [
    "# Plot the first 25 training images with their labels\n",
    "num = 25                  # Number of images to display \n",
    "images = X_train[:num]    # First 25 images\n",
    "labels = y_train[:num]    # Their labels (digits)\n",
    "\n",
    "num_row = 5               # Plot in 5 rows\n",
    "num_col = 5               # and 5 columns (5x5 grid)\n",
    "# plot images\n",
    "fig, axes = plt.subplots(num_row, num_col, figsize=(1.5*num_col,2*num_row))\n",
    "for i in range(num):\n",
    "    ax = axes[i//num_col, i%num_col]\n",
    "    ax.imshow(images[i])#, cmap='gray')\n",
    "    ax.set_title('Label: {}'.format(labels[i]))\n",
    "plt.tight_layout()\n",
    "plt.show()"
   ]
  },
  {
   "cell_type": "markdown",
   "id": "595ce928-1d29-40de-8411-2d41d5c163b0",
   "metadata": {},
   "source": [
    "---"
   ]
  },
  {
   "cell_type": "markdown",
   "id": "28a086e5-bcdd-452f-882a-f8184a6b655a",
   "metadata": {},
   "source": [
    "## 6. Preprocess Data\n",
    "\n",
    "Before feeding the data into a Convolutional Neural Network (CNN), the raw images and labels need to be prepared:\n",
    "- Reshape images: Add a channel dimension so each image has shape (28, 28, 1) instead of (28, 28). This makes them compatible with CNNs, which expect 3D image inputs.\n",
    "- Convert pixel values to floats: Change the data type from integers (0–255) to floating-point numbers.\n",
    "- Normalise pixel values: Scale all values to the range [0,1] by dividing by 255. This speeds up learning and helps the model converge more reliably.\n",
    "- One-hot encode labels: Transform digit labels (0–9) into binary vectors (e.g. 3 → [0,0,0,1,0,0,0,0,0,0]). This allows the model to output probabilities across all 10 classes.\n",
    "\n",
    "Preprocessing ensures the input data is in the right shape, format, and scale for training an effective deep learning model."
   ]
  },
  {
   "cell_type": "code",
   "execution_count": 16,
   "id": "58f14800",
   "metadata": {},
   "outputs": [],
   "source": [
    "# Preprocess image data\n",
    "# CNNs expect data with a \"channel\" dimension (greyscale=1) channel)\n",
    "X_train = X_train.reshape(X_train.shape[0], 28, 28, 1)\n",
    "X_test = X_test.reshape(X_test.shape[0], 28, 28, 1)"
   ]
  },
  {
   "cell_type": "code",
   "execution_count": 17,
   "id": "aa74a1b0",
   "metadata": {},
   "outputs": [],
   "source": [
    "# Convert pixel values from int to float\n",
    "X_train = X_train.astype('float32')\n",
    "X_test = X_test.astype('float32')"
   ]
  },
  {
   "cell_type": "code",
   "execution_count": 18,
   "id": "822b914e",
   "metadata": {},
   "outputs": [],
   "source": [
    "# Normalise the pixels to range [0,1] (helps model train faster and better)\n",
    "X_train /= 255\n",
    "X_test /= 255"
   ]
  },
  {
   "cell_type": "code",
   "execution_count": 19,
   "id": "7d94a1e2",
   "metadata": {},
   "outputs": [],
   "source": [
    "# Preprocess class labels (One-hot encoding)\n",
    "Y_train = to_categorical(y_train, 10)\n",
    "Y_test = to_categorical(y_test, 10)"
   ]
  },
  {
   "cell_type": "code",
   "execution_count": 20,
   "id": "95187f02",
   "metadata": {},
   "outputs": [
    {
     "data": {
      "text/plain": [
       "array([[0., 0., 0., ..., 0., 0., 0.],\n",
       "       [1., 0., 0., ..., 0., 0., 0.],\n",
       "       [0., 0., 0., ..., 0., 0., 0.],\n",
       "       ...,\n",
       "       [0., 0., 0., ..., 0., 0., 0.],\n",
       "       [0., 0., 0., ..., 0., 0., 0.],\n",
       "       [0., 0., 0., ..., 0., 1., 0.]])"
      ]
     },
     "execution_count": 20,
     "metadata": {},
     "output_type": "execute_result"
    }
   ],
   "source": [
    "# Display the first few one-hot encoded labels to inspect them\n",
    "Y_train"
   ]
  },
  {
   "cell_type": "markdown",
   "id": "396f51d7-98fb-4267-b579-c25d9f246c88",
   "metadata": {},
   "source": [
    "##### Each label is now a 10-element vector."
   ]
  },
  {
   "cell_type": "code",
   "execution_count": 21,
   "id": "ab8b0b26",
   "metadata": {},
   "outputs": [
    {
     "name": "stdout",
     "output_type": "stream",
     "text": [
      "label:  0  in one-hot representation:  [0 0 0 0 0 1 0 0 0 0]\n",
      "label:  1  in one-hot representation:  [1 0 0 0 0 0 0 0 0 0]\n",
      "label:  2  in one-hot representation:  [0 0 0 0 1 0 0 0 0 0]\n",
      "label:  3  in one-hot representation:  [0 1 0 0 0 0 0 0 0 0]\n",
      "label:  4  in one-hot representation:  [0 0 0 0 0 0 0 0 0 1]\n",
      "label:  5  in one-hot representation:  [0 0 1 0 0 0 0 0 0 0]\n",
      "label:  6  in one-hot representation:  [0 1 0 0 0 0 0 0 0 0]\n",
      "label:  7  in one-hot representation:  [0 0 0 1 0 0 0 0 0 0]\n",
      "label:  8  in one-hot representation:  [0 1 0 0 0 0 0 0 0 0]\n",
      "label:  9  in one-hot representation:  [0 0 0 0 1 0 0 0 0 0]\n"
     ]
    }
   ],
   "source": [
    "# Check first few one-hot labels\n",
    "for label in range(10):\n",
    "    one_hot = (Y_train[label]).astype(np.int32)\n",
    "    print(\"label: \", label, \" in one-hot representation: \", one_hot)"
   ]
  },
  {
   "cell_type": "markdown",
   "id": "327fdbeb-0a63-4df2-b56b-0dc3deada460",
   "metadata": {},
   "source": [
    "---"
   ]
  },
  {
   "cell_type": "markdown",
   "id": "ef4e5a84-1a08-4c78-8c9a-30522102a947",
   "metadata": {},
   "source": [
    "## 7. Define CNN Model\n",
    "\n",
    "Now I will build the Convolutional Neural Network (CNN) architecture that will learn to recognise handwritten digits:\n",
    "- Convolutional layers: Extract local patterns (like edges, curves, or strokes) from the input images.\n",
    "- Max pooling: Downsamples feature maps, reducing complexity while keeping the most important features.\n",
    "- Dropout: Randomly “turns off” neurons during training to reduce overfitting and improve generalisation.\n",
    "- Flatten layer: Converts 2D feature maps into a 1D vector for the fully connected layers.\n",
    "- Dense hidden layer: Learns higher-level representations of the extracted features.\n",
    "- Output layer: Uses softmax activation to output probabilities for the 10 digit classes (0–9).\n",
    "\n",
    "This architecture balances performance and simplicity—complex enough to capture patterns in the data, but light enough to train efficiently on the MNIST dataset."
   ]
  },
  {
   "cell_type": "code",
   "execution_count": 22,
   "id": "ca844f9e",
   "metadata": {},
   "outputs": [
    {
     "name": "stderr",
     "output_type": "stream",
     "text": [
      "/opt/anaconda3/lib/python3.12/site-packages/keras/src/layers/convolutional/base_conv.py:113: UserWarning: Do not pass an `input_shape`/`input_dim` argument to a layer. When using Sequential models, prefer using an `Input(shape)` object as the first layer in the model instead.\n",
      "  super().__init__(activity_regularizer=activity_regularizer, **kwargs)\n"
     ]
    }
   ],
   "source": [
    "# Model configuration\n",
    "epochs = 30         # Model will see the enitre training dataset 30 times during training.\n",
    "batch_size = 16     # Model looks at 16 images at a time before updating its weights.\n",
    "n_hidden = 32       # This is just a placeholder for a hidden layer size (not used in this CNN, but common in fully connected networks).\n",
    "\n",
    "# Define CNN model architecture\n",
    "model = Sequential()   # Layers are stacked one after another like LEGO. \n",
    " \n",
    "model.add(Conv2D(32, (3,3), activation='relu', input_shape=(28,28,1)))\n",
    "model.add(Conv2D(32, (3,3), activation='relu'))\n",
    "\n",
    "# Downsample feature maps\n",
    "model.add(MaxPooling2D(pool_size=(2,2)))\n",
    "\n",
    "# Dropout --> randomly turns off neurons (reduces overfitting)\n",
    "model.add(Dropout(0.25))\n",
    " \n",
    "# Flatten 2D feature maps into a 1D vector\n",
    "model.add(Flatten())\n",
    "\n",
    "# Fully connected hidden layer \n",
    "model.add(Dense(128, activation='relu'))\n",
    "\n",
    "# Dropout again (prevent overfitting)\n",
    "model.add(Dropout(0.5))\n",
    "\n",
    "# Output layer: 10 neurons (digits 0-9), softmax gives probabilities \n",
    "model.add(Dense(10, activation='softmax'))\n",
    " \n",
    "# Compile the model\n",
    "model.compile(loss='categorical_crossentropy', optimizer='adam', metrics=['accuracy'])"
   ]
  },
  {
   "cell_type": "markdown",
   "id": "b9c0a5ce-17e8-4009-af54-d0a94ed6287f",
   "metadata": {},
   "source": [
    "---"
   ]
  },
  {
   "cell_type": "markdown",
   "id": "1a3ad3f2-d74e-4bee-9565-8fb4e536b882",
   "metadata": {},
   "source": [
    "## 8. Compile and Train Model\n",
    "\n",
    "With the model architecture defined, the next step is to compile and train it:\n",
    "\n",
    "- Compile step:\n",
    "  - Loss function: I use categorical crossentropy, which is standard for multi-class classification problems like digit recognition.\n",
    "  - Optimizer: I chose Adam, an adaptive optimizer that adjusts learning rates automatically and works well for CNNs.\n",
    "  - Metrics: I track accuracy to see how well the model predicts digits.\n",
    "\n",
    "- Training step:\n",
    "  - The model is trained on the MNIST training set using mini-batches (a subset of images at a time) to speed up learning.\n",
    "  - Each pass through the training set is called an epoch. I train for 10 epochs, meaning the model sees all training images 10 times.\n",
    "  - During training, the model updates its weights to minimise the loss and improve accuracy.\n",
    "\n",
    "This step is where the model actually learns to map images of handwritten digits to their correct labels."
   ]
  },
  {
   "cell_type": "code",
   "execution_count": 23,
   "id": "3a790644",
   "metadata": {},
   "outputs": [
    {
     "name": "stdout",
     "output_type": "stream",
     "text": [
      "Epoch 1/10\n",
      "\u001b[1m1875/1875\u001b[0m \u001b[32m━━━━━━━━━━━━━━━━━━━━\u001b[0m\u001b[37m\u001b[0m \u001b[1m95s\u001b[0m 49ms/step - accuracy: 0.9365 - loss: 0.2076 \n",
      "Epoch 2/10\n",
      "\u001b[1m1875/1875\u001b[0m \u001b[32m━━━━━━━━━━━━━━━━━━━━\u001b[0m\u001b[37m\u001b[0m \u001b[1m86s\u001b[0m 46ms/step - accuracy: 0.9745 - loss: 0.0871 \n",
      "Epoch 3/10\n",
      "\u001b[1m1875/1875\u001b[0m \u001b[32m━━━━━━━━━━━━━━━━━━━━\u001b[0m\u001b[37m\u001b[0m \u001b[1m88s\u001b[0m 47ms/step - accuracy: 0.9805 - loss: 0.0658 \n",
      "Epoch 4/10\n",
      "\u001b[1m1875/1875\u001b[0m \u001b[32m━━━━━━━━━━━━━━━━━━━━\u001b[0m\u001b[37m\u001b[0m \u001b[1m86s\u001b[0m 46ms/step - accuracy: 0.9831 - loss: 0.0549 \n",
      "Epoch 5/10\n",
      "\u001b[1m1875/1875\u001b[0m \u001b[32m━━━━━━━━━━━━━━━━━━━━\u001b[0m\u001b[37m\u001b[0m \u001b[1m82s\u001b[0m 44ms/step - accuracy: 0.9849 - loss: 0.0476 \n",
      "Epoch 6/10\n",
      "\u001b[1m1875/1875\u001b[0m \u001b[32m━━━━━━━━━━━━━━━━━━━━\u001b[0m\u001b[37m\u001b[0m \u001b[1m79s\u001b[0m 42ms/step - accuracy: 0.9874 - loss: 0.0388 \n",
      "Epoch 7/10\n",
      "\u001b[1m1875/1875\u001b[0m \u001b[32m━━━━━━━━━━━━━━━━━━━━\u001b[0m\u001b[37m\u001b[0m \u001b[1m80s\u001b[0m 43ms/step - accuracy: 0.9881 - loss: 0.0367 \n",
      "Epoch 8/10\n",
      "\u001b[1m1875/1875\u001b[0m \u001b[32m━━━━━━━━━━━━━━━━━━━━\u001b[0m\u001b[37m\u001b[0m \u001b[1m78s\u001b[0m 42ms/step - accuracy: 0.9898 - loss: 0.0322 \n",
      "Epoch 9/10\n",
      "\u001b[1m1875/1875\u001b[0m \u001b[32m━━━━━━━━━━━━━━━━━━━━\u001b[0m\u001b[37m\u001b[0m \u001b[1m82s\u001b[0m 44ms/step - accuracy: 0.9900 - loss: 0.0310 \n",
      "Epoch 10/10\n",
      "\u001b[1m1875/1875\u001b[0m \u001b[32m━━━━━━━━━━━━━━━━━━━━\u001b[0m\u001b[37m\u001b[0m \u001b[1m77s\u001b[0m 41ms/step - accuracy: 0.9905 - loss: 0.0282 \n"
     ]
    },
    {
     "data": {
      "text/plain": [
       "<keras.src.callbacks.history.History at 0x15c3e5be0>"
      ]
     },
     "execution_count": 23,
     "metadata": {},
     "output_type": "execute_result"
    }
   ],
   "source": [
    "# Train the model on training data\n",
    "model.fit(X_train, Y_train, batch_size=32, epochs=10, verbose=1)"
   ]
  },
  {
   "cell_type": "markdown",
   "id": "c030ecea-c68c-405d-b4a5-6d7e8d92e717",
   "metadata": {},
   "source": [
    "---"
   ]
  },
  {
   "cell_type": "markdown",
   "id": "f2bc9e17-d37f-468a-a511-63c2bc81eafc",
   "metadata": {},
   "source": [
    "## 9. Evaluate the Model \n",
    "\n",
    "After training, I evaluate the model’s performance on the test dataset, which contains handwritten digits it has never seen before. This step checks how well the model generalises beyond the training data.\n",
    "\n",
    "The evaluate function reports two key metrics:\n",
    "- Loss: how far off the predictions are from the true labels.\n",
    "- Accuracy: the proportion of correctly classified digits.\n",
    "\n",
    "I also inspect the predicted probabilities for a few sample images, making sure the model outputs a probability distribution (summing to 1) across the 10 digit classes.\n",
    "\n",
    "To get a more detailed picture of performance, I calculate a confusion matrix, which shows which digits the model classifies correctly and where it makes mistakes (e.g. confusing a “4” for a “9”).\n",
    "\n",
    "This evaluation highlights both the strengths of the model and the areas where it struggles, giving insight into possible improvements."
   ]
  },
  {
   "cell_type": "code",
   "execution_count": 24,
   "id": "ff5d4f99",
   "metadata": {
    "scrolled": true
   },
   "outputs": [
    {
     "name": "stdout",
     "output_type": "stream",
     "text": [
      "313/313 - 2s - 5ms/step - accuracy: 0.9913 - loss: 0.0305\n"
     ]
    }
   ],
   "source": [
    "# Evaluate model on test data\n",
    "score = model.evaluate(X_test, Y_test, verbose=2)"
   ]
  },
  {
   "cell_type": "code",
   "execution_count": 25,
   "id": "6aaaabad",
   "metadata": {},
   "outputs": [
    {
     "name": "stdout",
     "output_type": "stream",
     "text": [
      "\u001b[1m1/1\u001b[0m \u001b[32m━━━━━━━━━━━━━━━━━━━━\u001b[0m\u001b[37m\u001b[0m \u001b[1m0s\u001b[0m 100ms/step\n"
     ]
    },
    {
     "data": {
      "text/plain": [
       "array([[1.91671782e-14, 7.30772720e-10, 4.44365267e-10, 5.18162846e-10,\n",
       "        4.05643444e-12, 3.38757820e-12, 3.49613428e-18, 1.00000000e+00,\n",
       "        4.58913629e-10, 1.01722293e-08],\n",
       "       [1.34953810e-12, 3.68625103e-10, 1.00000000e+00, 2.58488717e-12,\n",
       "        1.24823751e-16, 4.18196100e-19, 4.19142238e-12, 2.51603480e-14,\n",
       "        1.62474862e-12, 2.78390634e-19],\n",
       "       [1.73804408e-11, 9.99999166e-01, 1.40887755e-08, 6.53818735e-11,\n",
       "        2.04212029e-07, 8.34592697e-08, 1.10800054e-08, 4.43014073e-07,\n",
       "        3.35207737e-08, 3.79183440e-09],\n",
       "       [9.99978423e-01, 1.73353032e-09, 1.38824817e-07, 1.43428214e-10,\n",
       "        1.69193086e-08, 3.05374428e-08, 2.09069003e-05, 2.90926994e-09,\n",
       "        7.54144267e-08, 3.96925657e-07]], dtype=float32)"
      ]
     },
     "execution_count": 25,
     "metadata": {},
     "output_type": "execute_result"
    }
   ],
   "source": [
    "# Make predictions\n",
    "# Predict first 4 images in the test set\n",
    "model.predict(X_test[:4])"
   ]
  },
  {
   "cell_type": "code",
   "execution_count": 26,
   "id": "19a7d0c6",
   "metadata": {},
   "outputs": [
    {
     "name": "stdout",
     "output_type": "stream",
     "text": [
      "\u001b[1m1/1\u001b[0m \u001b[32m━━━━━━━━━━━━━━━━━━━━\u001b[0m\u001b[37m\u001b[0m \u001b[1m0s\u001b[0m 38ms/step\n"
     ]
    },
    {
     "data": {
      "text/plain": [
       "array([1.        , 1.        , 0.99999994, 1.        ], dtype=float32)"
      ]
     },
     "execution_count": 26,
     "metadata": {},
     "output_type": "execute_result"
    }
   ],
   "source": [
    "# Check that probabilities add up to 1\n",
    "sumarray = np.sum(model.predict(X_test[:4]), axis=1)\n",
    "sumarray"
   ]
  },
  {
   "cell_type": "code",
   "execution_count": 27,
   "id": "1fc6f5f2",
   "metadata": {},
   "outputs": [
    {
     "data": {
      "text/plain": [
       "array([7, 2, 1, 0], dtype=uint8)"
      ]
     },
     "execution_count": 27,
     "metadata": {},
     "output_type": "execute_result"
    }
   ],
   "source": [
    "# Actual results for first 4 images in test set for comparison \n",
    "y_test[:4]"
   ]
  },
  {
   "cell_type": "code",
   "execution_count": 28,
   "id": "a060e9ca",
   "metadata": {},
   "outputs": [
    {
     "name": "stdout",
     "output_type": "stream",
     "text": [
      "\u001b[1m313/313\u001b[0m \u001b[32m━━━━━━━━━━━━━━━━━━━━\u001b[0m\u001b[37m\u001b[0m \u001b[1m1s\u001b[0m 4ms/step  \n",
      "[[ 975    0    2    1    0    0    1    0    1    0]\n",
      " [   0 1131    1    2    0    1    0    0    0    0]\n",
      " [   1    1 1023    2    0    0    0    4    1    0]\n",
      " [   0    0    1 1006    0    2    0    0    1    0]\n",
      " [   0    0    1    0  970    0    0    0    2    9]\n",
      " [   0    0    0    6    0  885    1    0    0    0]\n",
      " [   4    2    0    1    1    5  943    0    2    0]\n",
      " [   0    2    5    0    0    0    0 1020    1    0]\n",
      " [   0    0    1    1    0    0    0    0  971    1]\n",
      " [   0    0    0    3    3    7    0    2    5  989]]\n"
     ]
    }
   ],
   "source": [
    "# Confusion matrix\n",
    "test_predictions = model.predict(X_test)\n",
    "cm = confusion_matrix(y_test, np.argmax(test_predictions,axis=1))\n",
    "print(cm)"
   ]
  },
  {
   "cell_type": "markdown",
   "id": "73402523-bba2-492a-a55f-1dcb4191fcee",
   "metadata": {},
   "source": [
    "---"
   ]
  },
  {
   "cell_type": "markdown",
   "id": "85fe0680-35a4-4a89-a511-b11666337540",
   "metadata": {},
   "source": [
    "## 10. Load and Process One Custom Image \n",
    "\n",
    "To test the model in a real-world scenario, I use a handwritten digit. The goal is to check whether the trained CNN can correctly recognise digits outside the MNIST dataset.\n",
    "Since MNIST digits are 28×28 pixels in grayscale, I resize the custom image to match this format.\n",
    "I reshape it to fit the model’s expected input shape (1, 28, 28, 1) and normalise the pixel values.\n",
    "Finally, I run the model’s predict function to see which digit it thinks it is."
   ]
  },
  {
   "cell_type": "code",
   "execution_count": 29,
   "id": "d7a4d433",
   "metadata": {},
   "outputs": [
    {
     "data": {
      "text/plain": [
       "'/Users/yaseminmustafa/Desktop/CareerFoundry/Specialisation/Achievement 2/2.5/Support'"
      ]
     },
     "execution_count": 29,
     "metadata": {},
     "output_type": "execute_result"
    }
   ],
   "source": [
    "# Load and process a custom image \n",
    "path = \"/Users/yaseminmustafa/Desktop/CareerFoundry/Specialisation/Achievement 2/2.5/Support\"\n",
    "path"
   ]
  },
  {
   "cell_type": "code",
   "execution_count": 30,
   "id": "f1d0f489-c0d7-45d8-ab47-6ba8fe0ae5ba",
   "metadata": {},
   "outputs": [
    {
     "name": "stdout",
     "output_type": "stream",
     "text": [
      "True\n"
     ]
    }
   ],
   "source": [
    "# Check folder\n",
    "print(os.path.exists(path))  "
   ]
  },
  {
   "cell_type": "code",
   "execution_count": 31,
   "id": "e05440ca",
   "metadata": {
    "scrolled": true
   },
   "outputs": [
    {
     "name": "stdout",
     "output_type": "stream",
     "text": [
      "PNG\n",
      "(1490, 1480)\n",
      "P\n"
     ]
    }
   ],
   "source": [
    "# Load image file \n",
    "img = Image.open(os.path.join(path, 'handwritten-7.png'))\n",
    "print(img.format)\n",
    "print(img.size)\n",
    "print(img.mode)"
   ]
  },
  {
   "cell_type": "code",
   "execution_count": 32,
   "id": "e166e286",
   "metadata": {},
   "outputs": [
    {
     "data": {
      "image/png": "[encoded data removed]",
      "text/plain": [
       "<PIL.Image.Image image mode=P size=28x28>"
      ]
     },
     "execution_count": 32,
     "metadata": {},
     "output_type": "execute_result"
    }
   ],
   "source": [
    "# Resize to MNIST size (28x28)\n",
    "newsize = (28,28)\n",
    "img2 = img.resize(newsize)\n",
    "img2"
   ]
  },
  {
   "cell_type": "code",
   "execution_count": 33,
   "id": "8fe2eb8d",
   "metadata": {},
   "outputs": [
    {
     "name": "stdout",
     "output_type": "stream",
     "text": [
      "(28, 28)\n"
     ]
    }
   ],
   "source": [
    "# Convert to NumPy array\n",
    "testimg = asarray(img2)\n",
    "print(testimg.shape)"
   ]
  },
  {
   "cell_type": "code",
   "execution_count": 34,
   "id": "46dc0eaa",
   "metadata": {},
   "outputs": [],
   "source": [
    "# Reshape to match CNN input format\n",
    "testimg = testimg.reshape(1, 28, 28, 1)"
   ]
  },
  {
   "cell_type": "code",
   "execution_count": 35,
   "id": "f1149b17",
   "metadata": {},
   "outputs": [
    {
     "name": "stdout",
     "output_type": "stream",
     "text": [
      "\u001b[1m1/1\u001b[0m \u001b[32m━━━━━━━━━━━━━━━━━━━━\u001b[0m\u001b[37m\u001b[0m \u001b[1m0s\u001b[0m 90ms/step\n",
      "7\n"
     ]
    }
   ],
   "source": [
    "# Predict digit for custom image\n",
    "predict_value = model.predict(testimg)\n",
    "digit = argmax(predict_value)\n",
    "print(digit)"
   ]
  },
  {
   "cell_type": "markdown",
   "id": "1260e570-619b-4e57-b930-12276a52739c",
   "metadata": {},
   "source": [
    "---"
   ]
  },
  {
   "cell_type": "markdown",
   "id": "ed74bff2-ac4f-4575-8349-1fb71a069c9d",
   "metadata": {},
   "source": [
    "## 11. Load and Process a Batch of Custom Images \n",
    "\n",
    "To extend the real-world test, I created my own dataset of handwritten digits (0–9) and included a letter for extra challenge. Each number was:\n",
    "- Written naturally on paper, then photographed.\n",
    "- Cropped into individual images so that each digit is centred in a white square.\n",
    "- Converted into grayscale negative (white digit on black background), just like MNIST.\n",
    "\n",
    "This process ensures that the images match the 28×28 pixel grayscale format expected by the trained CNN. I then loop through all the custom images, reshape them into (1, 28, 28, 1), and feed them into the model for prediction.\n",
    "\n",
    "The output records which number I uploaded and which number the model predicted, so I can calculate accuracy. If I upload a letter, I check which digit the model mistakes it for."
   ]
  },
  {
   "cell_type": "code",
   "execution_count": 59,
   "id": "484d1284-55bb-4a1b-b736-ece8f7b4256f",
   "metadata": {},
   "outputs": [
    {
     "data": {
      "text/plain": [
       "'/Users/yaseminmustafa/Desktop/CareerFoundry/Specialisation/Achievement 2/2.5/Numbers_Grey_Scale'"
      ]
     },
     "execution_count": 59,
     "metadata": {},
     "output_type": "execute_result"
    }
   ],
   "source": [
    "# Load and process batch of custom images \n",
    "# Folder containing handwritten digits 0–9 and a letter\n",
    "path1 = \"/Users/yaseminmustafa/Desktop/CareerFoundry/Specialisation/Achievement 2/2.5/Numbers_Grey_Scale\"\n",
    "path1"
   ]
  },
  {
   "cell_type": "code",
   "execution_count": 60,
   "id": "01bf5d5e-9054-4453-9837-003ed7fb3303",
   "metadata": {},
   "outputs": [],
   "source": [
    "# List of image filenames \n",
    "files = [\n",
    "    \"Grey_0.png\", \"Grey_1.png\", \"Grey_2.png\", \n",
    "    \"Grey_3.png\", \"Grey_4.png\", \"Grey_5.png\",\n",
    "    \"Grey_6.png\", \"Grey_7.png\", \"Grey_8.png\", \n",
    "    \"Grey_9.png\", \"Grey_Y.png\"\n",
    "]"
   ]
  },
  {
   "cell_type": "code",
   "execution_count": 61,
   "id": "49641395-8973-4943-a468-5eaf7e0985cd",
   "metadata": {},
   "outputs": [
    {
     "name": "stdout",
     "output_type": "stream",
     "text": [
      "\u001b[1m1/1\u001b[0m \u001b[32m━━━━━━━━━━━━━━━━━━━━\u001b[0m\u001b[37m\u001b[0m \u001b[1m0s\u001b[0m 156ms/step\n",
      "\u001b[1m1/1\u001b[0m \u001b[32m━━━━━━━━━━━━━━━━━━━━\u001b[0m\u001b[37m\u001b[0m \u001b[1m0s\u001b[0m 42ms/step\n",
      "\u001b[1m1/1\u001b[0m \u001b[32m━━━━━━━━━━━━━━━━━━━━\u001b[0m\u001b[37m\u001b[0m \u001b[1m0s\u001b[0m 34ms/step\n",
      "\u001b[1m1/1\u001b[0m \u001b[32m━━━━━━━━━━━━━━━━━━━━\u001b[0m\u001b[37m\u001b[0m \u001b[1m0s\u001b[0m 39ms/step\n",
      "\u001b[1m1/1\u001b[0m \u001b[32m━━━━━━━━━━━━━━━━━━━━\u001b[0m\u001b[37m\u001b[0m \u001b[1m0s\u001b[0m 40ms/step\n",
      "\u001b[1m1/1\u001b[0m \u001b[32m━━━━━━━━━━━━━━━━━━━━\u001b[0m\u001b[37m\u001b[0m \u001b[1m0s\u001b[0m 37ms/step\n",
      "\u001b[1m1/1\u001b[0m \u001b[32m━━━━━━━━━━━━━━━━━━━━\u001b[0m\u001b[37m\u001b[0m \u001b[1m0s\u001b[0m 40ms/step\n",
      "\u001b[1m1/1\u001b[0m \u001b[32m━━━━━━━━━━━━━━━━━━━━\u001b[0m\u001b[37m\u001b[0m \u001b[1m0s\u001b[0m 34ms/step\n",
      "\u001b[1m1/1\u001b[0m \u001b[32m━━━━━━━━━━━━━━━━━━━━\u001b[0m\u001b[37m\u001b[0m \u001b[1m0s\u001b[0m 36ms/step\n",
      "\u001b[1m1/1\u001b[0m \u001b[32m━━━━━━━━━━━━━━━━━━━━\u001b[0m\u001b[37m\u001b[0m \u001b[1m0s\u001b[0m 36ms/step\n",
      "\u001b[1m1/1\u001b[0m \u001b[32m━━━━━━━━━━━━━━━━━━━━\u001b[0m\u001b[37m\u001b[0m \u001b[1m0s\u001b[0m 33ms/step\n"
     ]
    }
   ],
   "source": [
    "# Loop through all files\n",
    "results = {}\n",
    "for fname in files:\n",
    "    img = Image.open(os.path.join(path1, fname)).convert('L')  # grayscale\n",
    "    img = img.resize((28, 28))  # resize to MNIST size\n",
    "    testimg = asarray(img)      # convert to NumPy array\n",
    "    testimg = 255 - testimg     # invert colors (white digit on black)\n",
    "    testimg = testimg.reshape(1, 28, 28, 1).astype(\"float32\") / 255.0  # reshape + normalise\n",
    "\n",
    "     # Predict digit\n",
    "    predict_value = model.predict(testimg)\n",
    "    digit = argmax(predict_value)\n",
    "    \n",
    "    # Save in dictionary\n",
    "    results[fname] = digit"
   ]
  },
  {
   "cell_type": "code",
   "execution_count": 62,
   "id": "7c17a780-6f5a-4696-ae61-82fb77d19aae",
   "metadata": {},
   "outputs": [
    {
     "name": "stdout",
     "output_type": "stream",
     "text": [
      "File: Grey_0.png → Predicted: 7\n",
      "File: Grey_1.png → Predicted: 0\n",
      "File: Grey_2.png → Predicted: 0\n",
      "File: Grey_3.png → Predicted: 8\n",
      "File: Grey_4.png → Predicted: 5\n",
      "File: Grey_5.png → Predicted: 5\n",
      "File: Grey_6.png → Predicted: 5\n",
      "File: Grey_7.png → Predicted: 0\n",
      "File: Grey_8.png → Predicted: 5\n",
      "File: Grey_9.png → Predicted: 8\n",
      "File: Grey_Y.png → Predicted: 0\n",
      "The model predicted the letter (Grey_Y.png) as digit: 0\n"
     ]
    }
   ],
   "source": [
    "# Show results\n",
    "for fname, pred in results.items():\n",
    "    print(f\"File: {fname} → Predicted: {pred}\")\n",
    "\n",
    "# Determine what the model predicted for the letter\n",
    "letter_file = \"Grey_Y.png\"\n",
    "predicted_for_letter = results[letter_file]\n",
    "print(f\"The model predicted the letter ({letter_file}) as digit: {predicted_for_letter}\")"
   ]
  },
  {
   "cell_type": "code",
   "execution_count": 63,
   "id": "ba885d34-81cf-4dff-ada1-8765f319e7ec",
   "metadata": {},
   "outputs": [
    {
     "name": "stdout",
     "output_type": "stream",
     "text": [
      "\u001b[1m1/1\u001b[0m \u001b[32m━━━━━━━━━━━━━━━━━━━━\u001b[0m\u001b[37m\u001b[0m \u001b[1m0s\u001b[0m 44ms/step\n",
      "\u001b[1m1/1\u001b[0m \u001b[32m━━━━━━━━━━━━━━━━━━━━\u001b[0m\u001b[37m\u001b[0m \u001b[1m0s\u001b[0m 46ms/step\n",
      "\u001b[1m1/1\u001b[0m \u001b[32m━━━━━━━━━━━━━━━━━━━━\u001b[0m\u001b[37m\u001b[0m \u001b[1m0s\u001b[0m 31ms/step\n",
      "\u001b[1m1/1\u001b[0m \u001b[32m━━━━━━━━━━━━━━━━━━━━\u001b[0m\u001b[37m\u001b[0m \u001b[1m0s\u001b[0m 30ms/step\n",
      "\u001b[1m1/1\u001b[0m \u001b[32m━━━━━━━━━━━━━━━━━━━━\u001b[0m\u001b[37m\u001b[0m \u001b[1m0s\u001b[0m 30ms/step\n",
      "\u001b[1m1/1\u001b[0m \u001b[32m━━━━━━━━━━━━━━━━━━━━\u001b[0m\u001b[37m\u001b[0m \u001b[1m0s\u001b[0m 31ms/step\n",
      "\u001b[1m1/1\u001b[0m \u001b[32m━━━━━━━━━━━━━━━━━━━━\u001b[0m\u001b[37m\u001b[0m \u001b[1m0s\u001b[0m 29ms/step\n",
      "\u001b[1m1/1\u001b[0m \u001b[32m━━━━━━━━━━━━━━━━━━━━\u001b[0m\u001b[37m\u001b[0m \u001b[1m0s\u001b[0m 43ms/step\n",
      "\u001b[1m1/1\u001b[0m \u001b[32m━━━━━━━━━━━━━━━━━━━━\u001b[0m\u001b[37m\u001b[0m \u001b[1m0s\u001b[0m 42ms/step\n",
      "\u001b[1m1/1\u001b[0m \u001b[32m━━━━━━━━━━━━━━━━━━━━\u001b[0m\u001b[37m\u001b[0m \u001b[1m0s\u001b[0m 32ms/step\n",
      "\u001b[1m1/1\u001b[0m \u001b[32m━━━━━━━━━━━━━━━━━━━━\u001b[0m\u001b[37m\u001b[0m \u001b[1m0s\u001b[0m 36ms/step\n",
      "Predictions: {'Grey_0.png': 7, 'Grey_1.png': 0, 'Grey_2.png': 0, 'Grey_3.png': 8, 'Grey_4.png': 5, 'Grey_5.png': 5, 'Grey_6.png': 5, 'Grey_7.png': 0, 'Grey_8.png': 5, 'Grey_9.png': 8, 'Grey_Y.png': 0}\n",
      "Accuracy: 11.11%\n"
     ]
    }
   ],
   "source": [
    "# Automating accuracy calculation \n",
    "# Make a mapping of expected labels\n",
    "true_labels = {\n",
    "    \"Grey_1.png\": 1, \n",
    "    \"Grey_2.png\": 2, \n",
    "    \"Grey_3.png\": 3, \n",
    "    \"Grey_4.png\": 4, \n",
    "    \"Grey_5.png\": 5, \n",
    "    \"Grey_6.png\": 6,\n",
    "    \"Grey_7.png\": 7, \n",
    "    \"Grey_8.png\": 8, \n",
    "    \"Grey_9.png\": 9, \n",
    "    \"Grey_Y.png\": \"Y\"\n",
    "}\n",
    "\n",
    "results = {}\n",
    "correct = 0\n",
    "\n",
    "for fname in files:\n",
    "    img = Image.open(os.path.join(path1, fname)).convert('L')\n",
    "    img = img.resize((28, 28))\n",
    "    testimg = asarray(img)\n",
    "    testimg = 255 - testimg   # invert if needed\n",
    "    testimg = testimg.reshape(1, 28, 28, 1).astype(\"float32\") / 255.0\n",
    "\n",
    "    # Predict\n",
    "    predict_value = model.predict(testimg)\n",
    "    digit = argmax(predict_value)\n",
    "\n",
    "    results[fname] = digit\n",
    "\n",
    "    # Compare if label exists in mapping and is numeric\n",
    "    if fname in true_labels and isinstance(true_labels[fname], int):\n",
    "        if digit == true_labels[fname]:\n",
    "            correct += 1\n",
    "\n",
    "# Calculate accuracy\n",
    "accuracy = correct / sum(isinstance(v, int) for v in true_labels.values())\n",
    "print(\"Predictions:\", results)\n",
    "print(f\"Accuracy: {accuracy:.2%}\")"
   ]
  },
  {
   "cell_type": "code",
   "execution_count": 65,
   "id": "740017cf-9ae0-4456-8730-cedba3a20180",
   "metadata": {},
   "outputs": [
    {
     "name": "stdout",
     "output_type": "stream",
     "text": [
      "\u001b[1m1/1\u001b[0m \u001b[32m━━━━━━━━━━━━━━━━━━━━\u001b[0m\u001b[37m\u001b[0m \u001b[1m0s\u001b[0m 34ms/step\n",
      "\u001b[1m1/1\u001b[0m \u001b[32m━━━━━━━━━━━━━━━━━━━━\u001b[0m\u001b[37m\u001b[0m \u001b[1m0s\u001b[0m 42ms/step\n",
      "\u001b[1m1/1\u001b[0m \u001b[32m━━━━━━━━━━━━━━━━━━━━\u001b[0m\u001b[37m\u001b[0m \u001b[1m0s\u001b[0m 32ms/step\n",
      "\u001b[1m1/1\u001b[0m \u001b[32m━━━━━━━━━━━━━━━━━━━━\u001b[0m\u001b[37m\u001b[0m \u001b[1m0s\u001b[0m 29ms/step\n",
      "\u001b[1m1/1\u001b[0m \u001b[32m━━━━━━━━━━━━━━━━━━━━\u001b[0m\u001b[37m\u001b[0m \u001b[1m0s\u001b[0m 33ms/step\n",
      "\u001b[1m1/1\u001b[0m \u001b[32m━━━━━━━━━━━━━━━━━━━━\u001b[0m\u001b[37m\u001b[0m \u001b[1m0s\u001b[0m 30ms/step\n",
      "\u001b[1m1/1\u001b[0m \u001b[32m━━━━━━━━━━━━━━━━━━━━\u001b[0m\u001b[37m\u001b[0m \u001b[1m0s\u001b[0m 32ms/step\n",
      "\u001b[1m1/1\u001b[0m \u001b[32m━━━━━━━━━━━━━━━━━━━━\u001b[0m\u001b[37m\u001b[0m \u001b[1m0s\u001b[0m 31ms/step\n",
      "\u001b[1m1/1\u001b[0m \u001b[32m━━━━━━━━━━━━━━━━━━━━\u001b[0m\u001b[37m\u001b[0m \u001b[1m0s\u001b[0m 31ms/step\n",
      "\u001b[1m1/1\u001b[0m \u001b[32m━━━━━━━━━━━━━━━━━━━━\u001b[0m\u001b[37m\u001b[0m \u001b[1m0s\u001b[0m 31ms/step\n",
      "\u001b[1m1/1\u001b[0m \u001b[32m━━━━━━━━━━━━━━━━━━━━\u001b[0m\u001b[37m\u001b[0m \u001b[1m0s\u001b[0m 32ms/step\n"
     ]
    },
    {
     "data": {
      "image/png": "[encoded data removed]",
      "text/plain": [
       "<Figure size 800x600 with 2 Axes>"
      ]
     },
     "metadata": {},
     "output_type": "display_data"
    }
   ],
   "source": [
    "# Store true and predicted labels\n",
    "y_true = []\n",
    "y_pred = []\n",
    "\n",
    "for fname in files:\n",
    "    img = Image.open(os.path.join(path1, fname)).convert('L')\n",
    "    img = img.resize((28, 28))\n",
    "    testimg = asarray(img)\n",
    "\n",
    "    # Invert if needed (black on white paper case)\n",
    "    testimg = 255 - testimg  \n",
    "\n",
    "    testimg = testimg.reshape(1, 28, 28, 1).astype(\"float32\") / 255.0\n",
    "\n",
    "    # Model prediction\n",
    "    predict_value = model.predict(testimg)\n",
    "    digit = argmax(predict_value)\n",
    "\n",
    "    # Append true + predicted (skip letters since they’re not numeric)\n",
    "    if fname.startswith(\"Grey_\") and fname[5:-4].isdigit():  # grabs the number after 'Grey_'\n",
    "        y_true.append(int(fname[5:-4]))\n",
    "        y_pred.append(digit)\n",
    "        \n",
    "# Build confusion matrix\n",
    "cm = confusion_matrix(y_true, y_pred)\n",
    "\n",
    "# Plot confusion matrix\n",
    "plt.figure(figsize=(8,6))\n",
    "sns.heatmap(cm, annot=True, fmt=\"d\", cmap=\"Blues\", xticklabels=range(10), yticklabels=range(10))\n",
    "plt.xlabel(\"Predicted\")\n",
    "plt.ylabel(\"True\")\n",
    "plt.title(\"Confusion Matrix – Custom Handwritten Digits\")\n",
    "plt.show()"
   ]
  }
 ],
 "metadata": {
  "kernelspec": {
   "display_name": "Python [conda env:base] *",
   "language": "python",
   "name": "conda-base-py"
  },
  "language_info": {
   "codemirror_mode": {
    "name": "ipython",
    "version": 3
   },
   "file_extension": ".py",
   "mimetype": "text/x-python",
   "name": "python",
   "nbconvert_exporter": "python",
   "pygments_lexer": "ipython3",
   "version": "3.12.7"
  }
 },
 "nbformat": 4,
 "nbformat_minor": 5
}
